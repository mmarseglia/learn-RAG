{
 "cells": [
  {
   "cell_type": "code",
   "execution_count": null,
   "metadata": {},
   "outputs": [],
   "source": [
    "import pandas as pd\n",
    "\n",
    "df = pd.read_csv('../all_ranks.csv')\n",
    "df.fillna(0, inplace=True)\n",
    "data = df.to_dict('records')\n",
    "df"
   ]
  },
  {
   "cell_type": "code",
   "execution_count": null,
   "metadata": {},
   "outputs": [],
   "source": [
    "from qdrant_client import QdrantClient, models\n",
    "from sentence_transformers import SentenceTransformer\n",
    "\n",
    "encoder = SentenceTransformer('all-mpnet-base-v2')\n",
    "\n",
    "qdrant = QdrantClient(\":memory:\")\n",
    "\n",
    "def create_collection(collection_name):\n",
    "    return qdrant.create_collection(\"all_ranks\",\n",
    "                               vectors_config=models.VectorParams(\n",
    "                                   size=encoder.get_sentence_embedding_dimension(),\n",
    "                                   distance=models.Distance.COSINE\n",
    "                                   )\n",
    "                                   )\n",
    "\n",
    "if qdrant.collection_exists(\"all_ranks\"):\n",
    "    qdrant.delete_collection(\"all_ranks\")\n",
    "    collection = create_collection(\"all_ranks\")\n",
    "else:\n",
    "    collection = create_collection(\"all_ranks\")\n"
   ]
  },
  {
   "cell_type": "code",
   "execution_count": null,
   "metadata": {},
   "outputs": [],
   "source": [
    "qdrant.upload_points(\n",
    "    collection_name=\"all_ranks\",\n",
    "    points=[\n",
    "        models.PointStruct(\n",
    "            id=idx,\n",
    "            vector=encoder.encode(doc[\"Requirement Name\"]).tolist(),\n",
    "            payload=doc\n",
    "        ) for idx, doc in enumerate(data)\n",
    "    ]\n",
    "    )"
   ]
  },
  {
   "cell_type": "code",
   "execution_count": null,
   "metadata": {},
   "outputs": [],
   "source": [
    "results = qdrant.search(\n",
    "    collection_name=\"all_ranks\",\n",
    "    query_vector=encoder.encode(\"fire\").tolist(),\n",
    "    limit=5\n",
    ")\n",
    "\n",
    "results\n"
   ]
  }
 ],
 "metadata": {
  "kernelspec": {
   "display_name": ".venv",
   "language": "python",
   "name": "python3"
  },
  "language_info": {
   "codemirror_mode": {
    "name": "ipython",
    "version": 3
   },
   "file_extension": ".py",
   "mimetype": "text/x-python",
   "name": "python",
   "nbconvert_exporter": "python",
   "pygments_lexer": "ipython3",
   "version": "3.12.7"
  }
 },
 "nbformat": 4,
 "nbformat_minor": 2
}
